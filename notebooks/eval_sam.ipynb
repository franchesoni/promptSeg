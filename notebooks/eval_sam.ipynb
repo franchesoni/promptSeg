{
 "cells": [
  {
   "cell_type": "code",
   "execution_count": 1,
   "metadata": {},
   "outputs": [],
   "source": [
    "import torch\n",
    "from segment_anything import SamPredictor, sam_model_registry\n",
    "\n",
    "sam_path = '../weights/sam_vit_b_01ec64.pth'\n",
    "sam = sam_model_registry[\"vit_b\"](checkpoint=sam_path)\n",
    "device = torch.device('cuda:0')\n",
    "sam.to(device)\n",
    "predictor = SamPredictor(sam)"
   ]
  },
  {
   "cell_type": "code",
   "execution_count": 7,
   "metadata": {},
   "outputs": [],
   "source": [
    "import numpy as np\n",
    "import os\n",
    "import sys\n",
    "\n",
    "current_folder = os.getcwd()\n",
    "parent_folder = os.path.dirname(current_folder)\n",
    "sys.path.extend([parent_folder, f'{parent_folder}/segnext'])\n",
    "\n",
    "from tqdm import tqdm\n",
    "from segnext.isegm.data.datasets import DavisDataset, HQSeg44kDataset\n",
    "from segnext.isegm.inference.clicker import Clicker\n",
    "from segnext.isegm.inference.utils import get_iou\n",
    "\n",
    "\n",
    "def get_points_nd(clicks_list):\n",
    "\n",
    "    points, labels = [], []\n",
    "    for click in clicks_list:\n",
    "        h, w = click.coords_and_indx[:2]\n",
    "        points.append([w, h])\n",
    "        labels.append(int(click.is_positive))\n",
    "    return np.array(points), np.array(labels)\n",
    "\n",
    "\n",
    "def eval(dataset):\n",
    "    max_clicks = 20\n",
    "    pred_thr = 0.5\n",
    "    results = []\n",
    "    for index in tqdm(range(len(dataset)), leave=False):\n",
    "        sample = dataset.get_sample(index)\n",
    "        for object_id in sample.objects_ids:\n",
    "            image = sample.image\n",
    "            gt_mask = sample.gt_mask(object_id)\n",
    "            pred_mask = np.zeros_like(gt_mask)\n",
    "            pred_logits = None\n",
    "\n",
    "            clicker = Clicker(gt_mask=gt_mask)\n",
    "            predictor.set_image(image)\n",
    "\n",
    "            ious = []\n",
    "            for _ in range(max_clicks):\n",
    "                clicker.make_next_click(pred_mask)\n",
    "                clicks_list = clicker.get_clicks()\n",
    "                points_nd, labels_nd = get_points_nd(clicks_list)\n",
    "\n",
    "                preds, scores, pred_logits = predictor.predict(\n",
    "                    points_nd, labels_nd, mask_input=pred_logits)\n",
    "                \n",
    "                max_score_idx = np.argmax(scores)\n",
    "                pred_mask = preds[max_score_idx] > pred_thr\n",
    "                pred_logits = pred_logits[[max_score_idx]]\n",
    "\n",
    "                iou = get_iou(gt_mask, pred_mask)\n",
    "                ious.append(iou)\n",
    "            results.append(ious)\n",
    "    return results\n"
   ]
  },
  {
   "cell_type": "code",
   "execution_count": 8,
   "metadata": {},
   "outputs": [
    {
     "name": "stderr",
     "output_type": "stream",
     "text": [
      "                                                 \r"
     ]
    }
   ],
   "source": [
    "# Evaluate on DAVIS\n",
    "DAVIS_PATH=\"../data/DAVIS345\"\n",
    "DAVIS = DavisDataset(DAVIS_PATH)\n",
    "results = eval(DAVIS)"
   ]
  },
  {
   "cell_type": "code",
   "execution_count": 9,
   "metadata": {},
   "outputs": [
    {
     "name": "stdout",
     "output_type": "stream",
     "text": [
      "NoC@90 =  5.147826086956521\n",
      "NoC@95 =  10.791304347826086\n",
      "NoF@95 =  151\n",
      "5-mIoU =  0.9094677801517471\n"
     ]
    }
   ],
   "source": [
    "# Calculate metrics for DAVIS\n",
    "from segnext.isegm.inference import utils\n",
    "\n",
    "\n",
    "def compute_noc_metric(all_ious, iou_thrs, max_clicks=20):\n",
    "    def _get_noc(iou_arr, iou_thr):\n",
    "        vals = iou_arr >= iou_thr\n",
    "        return np.argmax(vals) + 1 if np.any(vals) else max_clicks\n",
    "\n",
    "    noc_list = []\n",
    "    noc_list_std = []\n",
    "    over_max_list = []\n",
    "    for iou_thr in iou_thrs:\n",
    "        scores_arr = np.array([_get_noc(iou_arr, iou_thr)\n",
    "                               for iou_arr in all_ious], dtype=int)\n",
    "\n",
    "        score = scores_arr.mean()\n",
    "        score_std = scores_arr.std()\n",
    "        over_max = (scores_arr == max_clicks).sum()\n",
    "\n",
    "        noc_list.append(score)\n",
    "        noc_list_std.append(score_std)\n",
    "        over_max_list.append(over_max)\n",
    "\n",
    "    return noc_list, noc_list_std, over_max_list\n",
    "\n",
    "\n",
    "noc_list, noc_list_std, over_max_list = compute_noc_metric(\n",
    "    results, iou_thrs=np.array([0.85, 0.90, 0.95]), max_clicks=20)\n",
    "\n",
    "mIoU = np.array(results).mean(axis=0)\n",
    "\n",
    "print('NoC@90 = ', noc_list[1])\n",
    "print('NoC@95 = ', noc_list[2])\n",
    "print('NoF@95 = ', over_max_list[2])\n",
    "print('5-mIoU = ', mIoU[4])\n"
   ]
  }
 ],
 "metadata": {
  "kernelspec": {
   "display_name": "base",
   "language": "python",
   "name": "python3"
  },
  "language_info": {
   "codemirror_mode": {
    "name": "ipython",
    "version": 3
   },
   "file_extension": ".py",
   "mimetype": "text/x-python",
   "name": "python",
   "nbconvert_exporter": "python",
   "pygments_lexer": "ipython3",
   "version": "3.10.13"
  },
  "orig_nbformat": 4
 },
 "nbformat": 4,
 "nbformat_minor": 2
}
